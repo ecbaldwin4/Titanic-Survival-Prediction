{
 "cells": [
  {
   "cell_type": "code",
   "execution_count": 1,
   "id": "6b4c8c12",
   "metadata": {
    "_cell_guid": "b1076dfc-b9ad-4769-8c92-a6c4dae69d19",
    "_uuid": "8f2839f25d086af736a60e9eeb907d3b93b6e0e5",
    "execution": {
     "iopub.execute_input": "2024-04-18T04:04:04.827246Z",
     "iopub.status.busy": "2024-04-18T04:04:04.826798Z",
     "iopub.status.idle": "2024-04-18T04:04:05.948803Z",
     "shell.execute_reply": "2024-04-18T04:04:05.947402Z"
    },
    "papermill": {
     "duration": 1.135564,
     "end_time": "2024-04-18T04:04:05.951773",
     "exception": false,
     "start_time": "2024-04-18T04:04:04.816209",
     "status": "completed"
    },
    "tags": []
   },
   "outputs": [
    {
     "name": "stdout",
     "output_type": "stream",
     "text": [
      "/kaggle/input/titanic/train.csv\n",
      "/kaggle/input/titanic/test.csv\n",
      "/kaggle/input/titanic/gender_submission.csv\n"
     ]
    }
   ],
   "source": [
    "# This Python 3 environment comes with many helpful analytics libraries installed\n",
    "# It is defined by the kaggle/python Docker image: https://github.com/kaggle/docker-python\n",
    "# For example, here's several helpful packages to load\n",
    "\n",
    "import numpy as np # linear algebra\n",
    "import pandas as pd # data processing, CSV file I/O (e.g. pd.read_csv)\n",
    "\n",
    "# Input data files are available in the read-only \"../input/\" directory\n",
    "# For example, running this (by clicking run or pressing Shift+Enter) will list all files under the input directory\n",
    "\n",
    "import os\n",
    "for dirname, _, filenames in os.walk('/kaggle/input'):\n",
    "    for filename in filenames:\n",
    "        print(os.path.join(dirname, filename))\n",
    "\n",
    "# You can write up to 20GB to the current directory (/kaggle/working/) that gets preserved as output when you create a version using \"Save & Run All\" \n",
    "# You can also write temporary files to /kaggle/temp/, but they won't be saved outside of the current session"
   ]
  },
  {
   "cell_type": "code",
   "execution_count": 2,
   "id": "a74c28fd",
   "metadata": {
    "execution": {
     "iopub.execute_input": "2024-04-18T04:04:05.970590Z",
     "iopub.status.busy": "2024-04-18T04:04:05.970018Z",
     "iopub.status.idle": "2024-04-18T04:04:06.001519Z",
     "shell.execute_reply": "2024-04-18T04:04:06.000211Z"
    },
    "papermill": {
     "duration": 0.044233,
     "end_time": "2024-04-18T04:04:06.004749",
     "exception": false,
     "start_time": "2024-04-18T04:04:05.960516",
     "status": "completed"
    },
    "tags": []
   },
   "outputs": [],
   "source": [
    "train_df = pd.read_csv('/kaggle/input/titanic/train.csv')\n",
    "test_df = pd.read_csv('/kaggle/input/titanic/test.csv')"
   ]
  },
  {
   "cell_type": "code",
   "execution_count": 3,
   "id": "9513072d",
   "metadata": {
    "execution": {
     "iopub.execute_input": "2024-04-18T04:04:06.023120Z",
     "iopub.status.busy": "2024-04-18T04:04:06.022738Z",
     "iopub.status.idle": "2024-04-18T04:04:06.049291Z",
     "shell.execute_reply": "2024-04-18T04:04:06.048106Z"
    },
    "papermill": {
     "duration": 0.03869,
     "end_time": "2024-04-18T04:04:06.051804",
     "exception": false,
     "start_time": "2024-04-18T04:04:06.013114",
     "status": "completed"
    },
    "tags": []
   },
   "outputs": [
    {
     "data": {
      "text/html": [
       "<div>\n",
       "<style scoped>\n",
       "    .dataframe tbody tr th:only-of-type {\n",
       "        vertical-align: middle;\n",
       "    }\n",
       "\n",
       "    .dataframe tbody tr th {\n",
       "        vertical-align: top;\n",
       "    }\n",
       "\n",
       "    .dataframe thead th {\n",
       "        text-align: right;\n",
       "    }\n",
       "</style>\n",
       "<table border=\"1\" class=\"dataframe\">\n",
       "  <thead>\n",
       "    <tr style=\"text-align: right;\">\n",
       "      <th></th>\n",
       "      <th>PassengerId</th>\n",
       "      <th>Survived</th>\n",
       "      <th>Pclass</th>\n",
       "      <th>Name</th>\n",
       "      <th>Sex</th>\n",
       "      <th>Age</th>\n",
       "      <th>SibSp</th>\n",
       "      <th>Parch</th>\n",
       "      <th>Ticket</th>\n",
       "      <th>Fare</th>\n",
       "      <th>Cabin</th>\n",
       "      <th>Embarked</th>\n",
       "    </tr>\n",
       "  </thead>\n",
       "  <tbody>\n",
       "    <tr>\n",
       "      <th>0</th>\n",
       "      <td>1</td>\n",
       "      <td>0</td>\n",
       "      <td>3</td>\n",
       "      <td>Braund, Mr. Owen Harris</td>\n",
       "      <td>male</td>\n",
       "      <td>22.0</td>\n",
       "      <td>1</td>\n",
       "      <td>0</td>\n",
       "      <td>A/5 21171</td>\n",
       "      <td>7.2500</td>\n",
       "      <td>NaN</td>\n",
       "      <td>S</td>\n",
       "    </tr>\n",
       "    <tr>\n",
       "      <th>1</th>\n",
       "      <td>2</td>\n",
       "      <td>1</td>\n",
       "      <td>1</td>\n",
       "      <td>Cumings, Mrs. John Bradley (Florence Briggs Th...</td>\n",
       "      <td>female</td>\n",
       "      <td>38.0</td>\n",
       "      <td>1</td>\n",
       "      <td>0</td>\n",
       "      <td>PC 17599</td>\n",
       "      <td>71.2833</td>\n",
       "      <td>C85</td>\n",
       "      <td>C</td>\n",
       "    </tr>\n",
       "    <tr>\n",
       "      <th>2</th>\n",
       "      <td>3</td>\n",
       "      <td>1</td>\n",
       "      <td>3</td>\n",
       "      <td>Heikkinen, Miss. Laina</td>\n",
       "      <td>female</td>\n",
       "      <td>26.0</td>\n",
       "      <td>0</td>\n",
       "      <td>0</td>\n",
       "      <td>STON/O2. 3101282</td>\n",
       "      <td>7.9250</td>\n",
       "      <td>NaN</td>\n",
       "      <td>S</td>\n",
       "    </tr>\n",
       "    <tr>\n",
       "      <th>3</th>\n",
       "      <td>4</td>\n",
       "      <td>1</td>\n",
       "      <td>1</td>\n",
       "      <td>Futrelle, Mrs. Jacques Heath (Lily May Peel)</td>\n",
       "      <td>female</td>\n",
       "      <td>35.0</td>\n",
       "      <td>1</td>\n",
       "      <td>0</td>\n",
       "      <td>113803</td>\n",
       "      <td>53.1000</td>\n",
       "      <td>C123</td>\n",
       "      <td>S</td>\n",
       "    </tr>\n",
       "    <tr>\n",
       "      <th>4</th>\n",
       "      <td>5</td>\n",
       "      <td>0</td>\n",
       "      <td>3</td>\n",
       "      <td>Allen, Mr. William Henry</td>\n",
       "      <td>male</td>\n",
       "      <td>35.0</td>\n",
       "      <td>0</td>\n",
       "      <td>0</td>\n",
       "      <td>373450</td>\n",
       "      <td>8.0500</td>\n",
       "      <td>NaN</td>\n",
       "      <td>S</td>\n",
       "    </tr>\n",
       "  </tbody>\n",
       "</table>\n",
       "</div>"
      ],
      "text/plain": [
       "   PassengerId  Survived  Pclass  \\\n",
       "0            1         0       3   \n",
       "1            2         1       1   \n",
       "2            3         1       3   \n",
       "3            4         1       1   \n",
       "4            5         0       3   \n",
       "\n",
       "                                                Name     Sex   Age  SibSp  \\\n",
       "0                            Braund, Mr. Owen Harris    male  22.0      1   \n",
       "1  Cumings, Mrs. John Bradley (Florence Briggs Th...  female  38.0      1   \n",
       "2                             Heikkinen, Miss. Laina  female  26.0      0   \n",
       "3       Futrelle, Mrs. Jacques Heath (Lily May Peel)  female  35.0      1   \n",
       "4                           Allen, Mr. William Henry    male  35.0      0   \n",
       "\n",
       "   Parch            Ticket     Fare Cabin Embarked  \n",
       "0      0         A/5 21171   7.2500   NaN        S  \n",
       "1      0          PC 17599  71.2833   C85        C  \n",
       "2      0  STON/O2. 3101282   7.9250   NaN        S  \n",
       "3      0            113803  53.1000  C123        S  \n",
       "4      0            373450   8.0500   NaN        S  "
      ]
     },
     "execution_count": 3,
     "metadata": {},
     "output_type": "execute_result"
    }
   ],
   "source": [
    "train_df.head()"
   ]
  },
  {
   "cell_type": "code",
   "execution_count": 4,
   "id": "b8625c14",
   "metadata": {
    "execution": {
     "iopub.execute_input": "2024-04-18T04:04:06.071148Z",
     "iopub.status.busy": "2024-04-18T04:04:06.070084Z",
     "iopub.status.idle": "2024-04-18T04:04:06.087353Z",
     "shell.execute_reply": "2024-04-18T04:04:06.085922Z"
    },
    "papermill": {
     "duration": 0.029719,
     "end_time": "2024-04-18T04:04:06.090046",
     "exception": false,
     "start_time": "2024-04-18T04:04:06.060327",
     "status": "completed"
    },
    "tags": []
   },
   "outputs": [],
   "source": [
    "train_PID = train_df['PassengerId']\n",
    "train_target = train_df['Survived']\n",
    "train_df.drop(['PassengerId', 'Name', 'Ticket', 'Cabin','Survived'], axis=1, inplace=True)"
   ]
  },
  {
   "cell_type": "code",
   "execution_count": 5,
   "id": "e8926582",
   "metadata": {
    "execution": {
     "iopub.execute_input": "2024-04-18T04:04:06.109138Z",
     "iopub.status.busy": "2024-04-18T04:04:06.108763Z",
     "iopub.status.idle": "2024-04-18T04:04:06.115094Z",
     "shell.execute_reply": "2024-04-18T04:04:06.113944Z"
    },
    "papermill": {
     "duration": 0.019136,
     "end_time": "2024-04-18T04:04:06.117639",
     "exception": false,
     "start_time": "2024-04-18T04:04:06.098503",
     "status": "completed"
    },
    "tags": []
   },
   "outputs": [],
   "source": [
    "test_PID = test_df['PassengerId']\n",
    "test_df.drop(['PassengerId', 'Name', 'Ticket', 'Cabin'], axis=1, inplace=True)"
   ]
  },
  {
   "cell_type": "code",
   "execution_count": 6,
   "id": "5106d5f0",
   "metadata": {
    "execution": {
     "iopub.execute_input": "2024-04-18T04:04:06.136171Z",
     "iopub.status.busy": "2024-04-18T04:04:06.135799Z",
     "iopub.status.idle": "2024-04-18T04:04:06.160822Z",
     "shell.execute_reply": "2024-04-18T04:04:06.159402Z"
    },
    "papermill": {
     "duration": 0.037168,
     "end_time": "2024-04-18T04:04:06.163306",
     "exception": false,
     "start_time": "2024-04-18T04:04:06.126138",
     "status": "completed"
    },
    "tags": []
   },
   "outputs": [
    {
     "name": "stdout",
     "output_type": "stream",
     "text": [
      "<class 'pandas.core.frame.DataFrame'>\n",
      "RangeIndex: 891 entries, 0 to 890\n",
      "Data columns (total 7 columns):\n",
      " #   Column    Non-Null Count  Dtype  \n",
      "---  ------    --------------  -----  \n",
      " 0   Pclass    891 non-null    int64  \n",
      " 1   Sex       891 non-null    object \n",
      " 2   Age       714 non-null    float64\n",
      " 3   SibSp     891 non-null    int64  \n",
      " 4   Parch     891 non-null    int64  \n",
      " 5   Fare      891 non-null    float64\n",
      " 6   Embarked  889 non-null    object \n",
      "dtypes: float64(2), int64(3), object(2)\n",
      "memory usage: 48.9+ KB\n"
     ]
    }
   ],
   "source": [
    "train_df.info(verbose=all)"
   ]
  },
  {
   "cell_type": "code",
   "execution_count": 7,
   "id": "411e46d6",
   "metadata": {
    "execution": {
     "iopub.execute_input": "2024-04-18T04:04:06.182737Z",
     "iopub.status.busy": "2024-04-18T04:04:06.181931Z",
     "iopub.status.idle": "2024-04-18T04:04:06.190483Z",
     "shell.execute_reply": "2024-04-18T04:04:06.188471Z"
    },
    "papermill": {
     "duration": 0.021767,
     "end_time": "2024-04-18T04:04:06.193758",
     "exception": false,
     "start_time": "2024-04-18T04:04:06.171991",
     "status": "completed"
    },
    "tags": []
   },
   "outputs": [
    {
     "name": "stderr",
     "output_type": "stream",
     "text": [
      "/tmp/ipykernel_18/3764405876.py:1: FutureWarning: A value is trying to be set on a copy of a DataFrame or Series through chained assignment using an inplace method.\n",
      "The behavior will change in pandas 3.0. This inplace method will never work because the intermediate object on which we are setting values always behaves as a copy.\n",
      "\n",
      "For example, when doing 'df[col].method(value, inplace=True)', try using 'df.method({col: value}, inplace=True)' or df[col] = df[col].method(value) instead, to perform the operation inplace on the original object.\n",
      "\n",
      "\n",
      "  train_df['Age'].fillna(train_df['Age'].mean(), inplace=True)\n",
      "/tmp/ipykernel_18/3764405876.py:2: FutureWarning: A value is trying to be set on a copy of a DataFrame or Series through chained assignment using an inplace method.\n",
      "The behavior will change in pandas 3.0. This inplace method will never work because the intermediate object on which we are setting values always behaves as a copy.\n",
      "\n",
      "For example, when doing 'df[col].method(value, inplace=True)', try using 'df.method({col: value}, inplace=True)' or df[col] = df[col].method(value) instead, to perform the operation inplace on the original object.\n",
      "\n",
      "\n",
      "  test_df['Age'].fillna(test_df['Age'].mean(), inplace=True)\n"
     ]
    }
   ],
   "source": [
    "train_df['Age'].fillna(train_df['Age'].mean(), inplace=True)\n",
    "test_df['Age'].fillna(test_df['Age'].mean(), inplace=True)"
   ]
  },
  {
   "cell_type": "code",
   "execution_count": 8,
   "id": "9dfe4c54",
   "metadata": {
    "execution": {
     "iopub.execute_input": "2024-04-18T04:04:06.215717Z",
     "iopub.status.busy": "2024-04-18T04:04:06.215248Z",
     "iopub.status.idle": "2024-04-18T04:04:06.224144Z",
     "shell.execute_reply": "2024-04-18T04:04:06.222874Z"
    },
    "papermill": {
     "duration": 0.023326,
     "end_time": "2024-04-18T04:04:06.227713",
     "exception": false,
     "start_time": "2024-04-18T04:04:06.204387",
     "status": "completed"
    },
    "tags": []
   },
   "outputs": [
    {
     "name": "stderr",
     "output_type": "stream",
     "text": [
      "/tmp/ipykernel_18/135679160.py:1: FutureWarning: A value is trying to be set on a copy of a DataFrame or Series through chained assignment using an inplace method.\n",
      "The behavior will change in pandas 3.0. This inplace method will never work because the intermediate object on which we are setting values always behaves as a copy.\n",
      "\n",
      "For example, when doing 'df[col].method(value, inplace=True)', try using 'df.method({col: value}, inplace=True)' or df[col] = df[col].method(value) instead, to perform the operation inplace on the original object.\n",
      "\n",
      "\n",
      "  train_df['Embarked'].fillna('S', inplace=True)\n",
      "/tmp/ipykernel_18/135679160.py:2: FutureWarning: A value is trying to be set on a copy of a DataFrame or Series through chained assignment using an inplace method.\n",
      "The behavior will change in pandas 3.0. This inplace method will never work because the intermediate object on which we are setting values always behaves as a copy.\n",
      "\n",
      "For example, when doing 'df[col].method(value, inplace=True)', try using 'df.method({col: value}, inplace=True)' or df[col] = df[col].method(value) instead, to perform the operation inplace on the original object.\n",
      "\n",
      "\n",
      "  test_df['Embarked'].fillna('S', inplace=True)\n"
     ]
    }
   ],
   "source": [
    "train_df['Embarked'].fillna('S', inplace=True)\n",
    "test_df['Embarked'].fillna('S', inplace=True)"
   ]
  },
  {
   "cell_type": "code",
   "execution_count": 9,
   "id": "016e24a7",
   "metadata": {
    "execution": {
     "iopub.execute_input": "2024-04-18T04:04:06.247568Z",
     "iopub.status.busy": "2024-04-18T04:04:06.247090Z",
     "iopub.status.idle": "2024-04-18T04:04:06.258173Z",
     "shell.execute_reply": "2024-04-18T04:04:06.256939Z"
    },
    "papermill": {
     "duration": 0.024365,
     "end_time": "2024-04-18T04:04:06.260858",
     "exception": false,
     "start_time": "2024-04-18T04:04:06.236493",
     "status": "completed"
    },
    "tags": []
   },
   "outputs": [
    {
     "name": "stderr",
     "output_type": "stream",
     "text": [
      "/tmp/ipykernel_18/1047543682.py:1: FutureWarning: Downcasting behavior in `replace` is deprecated and will be removed in a future version. To retain the old behavior, explicitly call `result.infer_objects(copy=False)`. To opt-in to the future behavior, set `pd.set_option('future.no_silent_downcasting', True)`\n",
      "  train_df['Embarked'].replace(to_replace=['S', 'C', 'Q'], value=[0,1,2], inplace=True)\n",
      "/tmp/ipykernel_18/1047543682.py:2: FutureWarning: A value is trying to be set on a copy of a DataFrame or Series through chained assignment using an inplace method.\n",
      "The behavior will change in pandas 3.0. This inplace method will never work because the intermediate object on which we are setting values always behaves as a copy.\n",
      "\n",
      "For example, when doing 'df[col].method(value, inplace=True)', try using 'df.method({col: value}, inplace=True)' or df[col] = df[col].method(value) instead, to perform the operation inplace on the original object.\n",
      "\n",
      "\n",
      "  test_df['Embarked'].replace(to_replace=['S', 'C', 'Q'], value=[0,1,2], inplace=True)\n",
      "/tmp/ipykernel_18/1047543682.py:2: FutureWarning: Downcasting behavior in `replace` is deprecated and will be removed in a future version. To retain the old behavior, explicitly call `result.infer_objects(copy=False)`. To opt-in to the future behavior, set `pd.set_option('future.no_silent_downcasting', True)`\n",
      "  test_df['Embarked'].replace(to_replace=['S', 'C', 'Q'], value=[0,1,2], inplace=True)\n"
     ]
    }
   ],
   "source": [
    "train_df['Embarked'].replace(to_replace=['S', 'C', 'Q'], value=[0,1,2], inplace=True)\n",
    "test_df['Embarked'].replace(to_replace=['S', 'C', 'Q'], value=[0,1,2], inplace=True)"
   ]
  },
  {
   "cell_type": "code",
   "execution_count": 10,
   "id": "ebcc08e1",
   "metadata": {
    "execution": {
     "iopub.execute_input": "2024-04-18T04:04:06.281627Z",
     "iopub.status.busy": "2024-04-18T04:04:06.281183Z",
     "iopub.status.idle": "2024-04-18T04:04:06.291476Z",
     "shell.execute_reply": "2024-04-18T04:04:06.290197Z"
    },
    "papermill": {
     "duration": 0.023427,
     "end_time": "2024-04-18T04:04:06.294272",
     "exception": false,
     "start_time": "2024-04-18T04:04:06.270845",
     "status": "completed"
    },
    "tags": []
   },
   "outputs": [
    {
     "name": "stderr",
     "output_type": "stream",
     "text": [
      "/tmp/ipykernel_18/3881309150.py:1: FutureWarning: A value is trying to be set on a copy of a DataFrame or Series through chained assignment using an inplace method.\n",
      "The behavior will change in pandas 3.0. This inplace method will never work because the intermediate object on which we are setting values always behaves as a copy.\n",
      "\n",
      "For example, when doing 'df[col].method(value, inplace=True)', try using 'df.method({col: value}, inplace=True)' or df[col] = df[col].method(value) instead, to perform the operation inplace on the original object.\n",
      "\n",
      "\n",
      "  train_df['Sex'].replace(to_replace=['male', 'female'], value=[0,1], inplace=True)\n",
      "/tmp/ipykernel_18/3881309150.py:1: FutureWarning: Downcasting behavior in `replace` is deprecated and will be removed in a future version. To retain the old behavior, explicitly call `result.infer_objects(copy=False)`. To opt-in to the future behavior, set `pd.set_option('future.no_silent_downcasting', True)`\n",
      "  train_df['Sex'].replace(to_replace=['male', 'female'], value=[0,1], inplace=True)\n",
      "/tmp/ipykernel_18/3881309150.py:2: FutureWarning: A value is trying to be set on a copy of a DataFrame or Series through chained assignment using an inplace method.\n",
      "The behavior will change in pandas 3.0. This inplace method will never work because the intermediate object on which we are setting values always behaves as a copy.\n",
      "\n",
      "For example, when doing 'df[col].method(value, inplace=True)', try using 'df.method({col: value}, inplace=True)' or df[col] = df[col].method(value) instead, to perform the operation inplace on the original object.\n",
      "\n",
      "\n",
      "  test_df['Sex'].replace(to_replace=['male', 'female'], value=[0,1], inplace=True)\n",
      "/tmp/ipykernel_18/3881309150.py:2: FutureWarning: Downcasting behavior in `replace` is deprecated and will be removed in a future version. To retain the old behavior, explicitly call `result.infer_objects(copy=False)`. To opt-in to the future behavior, set `pd.set_option('future.no_silent_downcasting', True)`\n",
      "  test_df['Sex'].replace(to_replace=['male', 'female'], value=[0,1], inplace=True)\n"
     ]
    }
   ],
   "source": [
    "train_df['Sex'].replace(to_replace=['male', 'female'], value=[0,1], inplace=True)\n",
    "test_df['Sex'].replace(to_replace=['male', 'female'], value=[0,1], inplace=True)"
   ]
  },
  {
   "cell_type": "code",
   "execution_count": 11,
   "id": "4e37f2c5",
   "metadata": {
    "execution": {
     "iopub.execute_input": "2024-04-18T04:04:06.314769Z",
     "iopub.status.busy": "2024-04-18T04:04:06.314341Z",
     "iopub.status.idle": "2024-04-18T04:04:08.126918Z",
     "shell.execute_reply": "2024-04-18T04:04:08.125603Z"
    },
    "papermill": {
     "duration": 1.826215,
     "end_time": "2024-04-18T04:04:08.129839",
     "exception": false,
     "start_time": "2024-04-18T04:04:06.303624",
     "status": "completed"
    },
    "tags": []
   },
   "outputs": [],
   "source": [
    "from sklearn.pipeline import Pipeline\n",
    "from sklearn.linear_model import LogisticRegression\n",
    "from sklearn.preprocessing import StandardScaler\n",
    "from sklearn.metrics import f1_score\n",
    "from sklearn.model_selection import train_test_split"
   ]
  },
  {
   "cell_type": "code",
   "execution_count": 12,
   "id": "ae7db479",
   "metadata": {
    "execution": {
     "iopub.execute_input": "2024-04-18T04:04:08.150125Z",
     "iopub.status.busy": "2024-04-18T04:04:08.149673Z",
     "iopub.status.idle": "2024-04-18T04:04:08.160288Z",
     "shell.execute_reply": "2024-04-18T04:04:08.158891Z"
    },
    "papermill": {
     "duration": 0.024259,
     "end_time": "2024-04-18T04:04:08.163209",
     "exception": false,
     "start_time": "2024-04-18T04:04:08.138950",
     "status": "completed"
    },
    "tags": []
   },
   "outputs": [],
   "source": [
    "X_train, X_test, y_train, y_test = train_test_split(train_df, train_target, test_size=0.2, random_state=1)"
   ]
  },
  {
   "cell_type": "code",
   "execution_count": 13,
   "id": "feb99d39",
   "metadata": {
    "execution": {
     "iopub.execute_input": "2024-04-18T04:04:08.183105Z",
     "iopub.status.busy": "2024-04-18T04:04:08.182691Z",
     "iopub.status.idle": "2024-04-18T04:04:08.188499Z",
     "shell.execute_reply": "2024-04-18T04:04:08.187105Z"
    },
    "papermill": {
     "duration": 0.019035,
     "end_time": "2024-04-18T04:04:08.191195",
     "exception": false,
     "start_time": "2024-04-18T04:04:08.172160",
     "status": "completed"
    },
    "tags": []
   },
   "outputs": [],
   "source": [
    "model = Pipeline([('scaler', StandardScaler()), ('log', LogisticRegression())])"
   ]
  },
  {
   "cell_type": "code",
   "execution_count": 14,
   "id": "fd7c56e3",
   "metadata": {
    "execution": {
     "iopub.execute_input": "2024-04-18T04:04:08.212119Z",
     "iopub.status.busy": "2024-04-18T04:04:08.210882Z",
     "iopub.status.idle": "2024-04-18T04:04:08.240638Z",
     "shell.execute_reply": "2024-04-18T04:04:08.239294Z"
    },
    "papermill": {
     "duration": 0.043153,
     "end_time": "2024-04-18T04:04:08.243457",
     "exception": false,
     "start_time": "2024-04-18T04:04:08.200304",
     "status": "completed"
    },
    "tags": []
   },
   "outputs": [
    {
     "data": {
      "text/html": [
       "<style>#sk-container-id-1 {color: black;background-color: white;}#sk-container-id-1 pre{padding: 0;}#sk-container-id-1 div.sk-toggleable {background-color: white;}#sk-container-id-1 label.sk-toggleable__label {cursor: pointer;display: block;width: 100%;margin-bottom: 0;padding: 0.3em;box-sizing: border-box;text-align: center;}#sk-container-id-1 label.sk-toggleable__label-arrow:before {content: \"▸\";float: left;margin-right: 0.25em;color: #696969;}#sk-container-id-1 label.sk-toggleable__label-arrow:hover:before {color: black;}#sk-container-id-1 div.sk-estimator:hover label.sk-toggleable__label-arrow:before {color: black;}#sk-container-id-1 div.sk-toggleable__content {max-height: 0;max-width: 0;overflow: hidden;text-align: left;background-color: #f0f8ff;}#sk-container-id-1 div.sk-toggleable__content pre {margin: 0.2em;color: black;border-radius: 0.25em;background-color: #f0f8ff;}#sk-container-id-1 input.sk-toggleable__control:checked~div.sk-toggleable__content {max-height: 200px;max-width: 100%;overflow: auto;}#sk-container-id-1 input.sk-toggleable__control:checked~label.sk-toggleable__label-arrow:before {content: \"▾\";}#sk-container-id-1 div.sk-estimator input.sk-toggleable__control:checked~label.sk-toggleable__label {background-color: #d4ebff;}#sk-container-id-1 div.sk-label input.sk-toggleable__control:checked~label.sk-toggleable__label {background-color: #d4ebff;}#sk-container-id-1 input.sk-hidden--visually {border: 0;clip: rect(1px 1px 1px 1px);clip: rect(1px, 1px, 1px, 1px);height: 1px;margin: -1px;overflow: hidden;padding: 0;position: absolute;width: 1px;}#sk-container-id-1 div.sk-estimator {font-family: monospace;background-color: #f0f8ff;border: 1px dotted black;border-radius: 0.25em;box-sizing: border-box;margin-bottom: 0.5em;}#sk-container-id-1 div.sk-estimator:hover {background-color: #d4ebff;}#sk-container-id-1 div.sk-parallel-item::after {content: \"\";width: 100%;border-bottom: 1px solid gray;flex-grow: 1;}#sk-container-id-1 div.sk-label:hover label.sk-toggleable__label {background-color: #d4ebff;}#sk-container-id-1 div.sk-serial::before {content: \"\";position: absolute;border-left: 1px solid gray;box-sizing: border-box;top: 0;bottom: 0;left: 50%;z-index: 0;}#sk-container-id-1 div.sk-serial {display: flex;flex-direction: column;align-items: center;background-color: white;padding-right: 0.2em;padding-left: 0.2em;position: relative;}#sk-container-id-1 div.sk-item {position: relative;z-index: 1;}#sk-container-id-1 div.sk-parallel {display: flex;align-items: stretch;justify-content: center;background-color: white;position: relative;}#sk-container-id-1 div.sk-item::before, #sk-container-id-1 div.sk-parallel-item::before {content: \"\";position: absolute;border-left: 1px solid gray;box-sizing: border-box;top: 0;bottom: 0;left: 50%;z-index: -1;}#sk-container-id-1 div.sk-parallel-item {display: flex;flex-direction: column;z-index: 1;position: relative;background-color: white;}#sk-container-id-1 div.sk-parallel-item:first-child::after {align-self: flex-end;width: 50%;}#sk-container-id-1 div.sk-parallel-item:last-child::after {align-self: flex-start;width: 50%;}#sk-container-id-1 div.sk-parallel-item:only-child::after {width: 0;}#sk-container-id-1 div.sk-dashed-wrapped {border: 1px dashed gray;margin: 0 0.4em 0.5em 0.4em;box-sizing: border-box;padding-bottom: 0.4em;background-color: white;}#sk-container-id-1 div.sk-label label {font-family: monospace;font-weight: bold;display: inline-block;line-height: 1.2em;}#sk-container-id-1 div.sk-label-container {text-align: center;}#sk-container-id-1 div.sk-container {/* jupyter's `normalize.less` sets `[hidden] { display: none; }` but bootstrap.min.css set `[hidden] { display: none !important; }` so we also need the `!important` here to be able to override the default hidden behavior on the sphinx rendered scikit-learn.org. See: https://github.com/scikit-learn/scikit-learn/issues/21755 */display: inline-block !important;position: relative;}#sk-container-id-1 div.sk-text-repr-fallback {display: none;}</style><div id=\"sk-container-id-1\" class=\"sk-top-container\"><div class=\"sk-text-repr-fallback\"><pre>Pipeline(steps=[(&#x27;scaler&#x27;, StandardScaler()), (&#x27;log&#x27;, LogisticRegression())])</pre><b>In a Jupyter environment, please rerun this cell to show the HTML representation or trust the notebook. <br />On GitHub, the HTML representation is unable to render, please try loading this page with nbviewer.org.</b></div><div class=\"sk-container\" hidden><div class=\"sk-item sk-dashed-wrapped\"><div class=\"sk-label-container\"><div class=\"sk-label sk-toggleable\"><input class=\"sk-toggleable__control sk-hidden--visually\" id=\"sk-estimator-id-1\" type=\"checkbox\" ><label for=\"sk-estimator-id-1\" class=\"sk-toggleable__label sk-toggleable__label-arrow\">Pipeline</label><div class=\"sk-toggleable__content\"><pre>Pipeline(steps=[(&#x27;scaler&#x27;, StandardScaler()), (&#x27;log&#x27;, LogisticRegression())])</pre></div></div></div><div class=\"sk-serial\"><div class=\"sk-item\"><div class=\"sk-estimator sk-toggleable\"><input class=\"sk-toggleable__control sk-hidden--visually\" id=\"sk-estimator-id-2\" type=\"checkbox\" ><label for=\"sk-estimator-id-2\" class=\"sk-toggleable__label sk-toggleable__label-arrow\">StandardScaler</label><div class=\"sk-toggleable__content\"><pre>StandardScaler()</pre></div></div></div><div class=\"sk-item\"><div class=\"sk-estimator sk-toggleable\"><input class=\"sk-toggleable__control sk-hidden--visually\" id=\"sk-estimator-id-3\" type=\"checkbox\" ><label for=\"sk-estimator-id-3\" class=\"sk-toggleable__label sk-toggleable__label-arrow\">LogisticRegression</label><div class=\"sk-toggleable__content\"><pre>LogisticRegression()</pre></div></div></div></div></div></div></div>"
      ],
      "text/plain": [
       "Pipeline(steps=[('scaler', StandardScaler()), ('log', LogisticRegression())])"
      ]
     },
     "execution_count": 14,
     "metadata": {},
     "output_type": "execute_result"
    }
   ],
   "source": [
    "model.fit(X_train, y_train)"
   ]
  },
  {
   "cell_type": "code",
   "execution_count": 15,
   "id": "da1694db",
   "metadata": {
    "execution": {
     "iopub.execute_input": "2024-04-18T04:04:08.264714Z",
     "iopub.status.busy": "2024-04-18T04:04:08.264272Z",
     "iopub.status.idle": "2024-04-18T04:04:08.272275Z",
     "shell.execute_reply": "2024-04-18T04:04:08.271069Z"
    },
    "papermill": {
     "duration": 0.02216,
     "end_time": "2024-04-18T04:04:08.275076",
     "exception": false,
     "start_time": "2024-04-18T04:04:08.252916",
     "status": "completed"
    },
    "tags": []
   },
   "outputs": [],
   "source": [
    "yhat = model.predict(X_test)"
   ]
  },
  {
   "cell_type": "code",
   "execution_count": 16,
   "id": "646f6f9e",
   "metadata": {
    "execution": {
     "iopub.execute_input": "2024-04-18T04:04:08.296176Z",
     "iopub.status.busy": "2024-04-18T04:04:08.295754Z",
     "iopub.status.idle": "2024-04-18T04:04:08.308028Z",
     "shell.execute_reply": "2024-04-18T04:04:08.307049Z"
    },
    "papermill": {
     "duration": 0.025551,
     "end_time": "2024-04-18T04:04:08.310234",
     "exception": false,
     "start_time": "2024-04-18T04:04:08.284683",
     "status": "completed"
    },
    "tags": []
   },
   "outputs": [
    {
     "data": {
      "text/plain": [
       "0.75"
      ]
     },
     "execution_count": 16,
     "metadata": {},
     "output_type": "execute_result"
    }
   ],
   "source": [
    "f1_score(y_test, yhat)"
   ]
  },
  {
   "cell_type": "code",
   "execution_count": 17,
   "id": "32ff73df",
   "metadata": {
    "execution": {
     "iopub.execute_input": "2024-04-18T04:04:08.332979Z",
     "iopub.status.busy": "2024-04-18T04:04:08.332586Z",
     "iopub.status.idle": "2024-04-18T04:04:08.344586Z",
     "shell.execute_reply": "2024-04-18T04:04:08.343409Z"
    },
    "papermill": {
     "duration": 0.026974,
     "end_time": "2024-04-18T04:04:08.347506",
     "exception": false,
     "start_time": "2024-04-18T04:04:08.320532",
     "status": "completed"
    },
    "tags": []
   },
   "outputs": [
    {
     "name": "stdout",
     "output_type": "stream",
     "text": [
      "<class 'pandas.core.frame.DataFrame'>\n",
      "RangeIndex: 418 entries, 0 to 417\n",
      "Data columns (total 7 columns):\n",
      " #   Column    Non-Null Count  Dtype  \n",
      "---  ------    --------------  -----  \n",
      " 0   Pclass    418 non-null    int64  \n",
      " 1   Sex       418 non-null    int64  \n",
      " 2   Age       418 non-null    float64\n",
      " 3   SibSp     418 non-null    int64  \n",
      " 4   Parch     418 non-null    int64  \n",
      " 5   Fare      417 non-null    float64\n",
      " 6   Embarked  418 non-null    int64  \n",
      "dtypes: float64(2), int64(5)\n",
      "memory usage: 23.0 KB\n"
     ]
    }
   ],
   "source": [
    "test_df.info(verbose=all)"
   ]
  },
  {
   "cell_type": "code",
   "execution_count": 18,
   "id": "710941b6",
   "metadata": {
    "execution": {
     "iopub.execute_input": "2024-04-18T04:04:08.368003Z",
     "iopub.status.busy": "2024-04-18T04:04:08.367559Z",
     "iopub.status.idle": "2024-04-18T04:04:08.375354Z",
     "shell.execute_reply": "2024-04-18T04:04:08.373655Z"
    },
    "papermill": {
     "duration": 0.021113,
     "end_time": "2024-04-18T04:04:08.378030",
     "exception": false,
     "start_time": "2024-04-18T04:04:08.356917",
     "status": "completed"
    },
    "tags": []
   },
   "outputs": [
    {
     "name": "stderr",
     "output_type": "stream",
     "text": [
      "/tmp/ipykernel_18/1714945869.py:1: FutureWarning: A value is trying to be set on a copy of a DataFrame or Series through chained assignment using an inplace method.\n",
      "The behavior will change in pandas 3.0. This inplace method will never work because the intermediate object on which we are setting values always behaves as a copy.\n",
      "\n",
      "For example, when doing 'df[col].method(value, inplace=True)', try using 'df.method({col: value}, inplace=True)' or df[col] = df[col].method(value) instead, to perform the operation inplace on the original object.\n",
      "\n",
      "\n",
      "  test_df['Fare'].fillna(test_df['Fare'].mean(), inplace=True)\n"
     ]
    }
   ],
   "source": [
    "test_df['Fare'].fillna(test_df['Fare'].mean(), inplace=True)"
   ]
  },
  {
   "cell_type": "code",
   "execution_count": 19,
   "id": "10abc53d",
   "metadata": {
    "execution": {
     "iopub.execute_input": "2024-04-18T04:04:08.401097Z",
     "iopub.status.busy": "2024-04-18T04:04:08.400681Z",
     "iopub.status.idle": "2024-04-18T04:04:08.409683Z",
     "shell.execute_reply": "2024-04-18T04:04:08.408356Z"
    },
    "papermill": {
     "duration": 0.02416,
     "end_time": "2024-04-18T04:04:08.412078",
     "exception": false,
     "start_time": "2024-04-18T04:04:08.387918",
     "status": "completed"
    },
    "tags": []
   },
   "outputs": [],
   "source": [
    "yhat_final = np.round(model.predict(test_df))"
   ]
  },
  {
   "cell_type": "code",
   "execution_count": 20,
   "id": "1b7c5f7b",
   "metadata": {
    "execution": {
     "iopub.execute_input": "2024-04-18T04:04:08.434221Z",
     "iopub.status.busy": "2024-04-18T04:04:08.433012Z",
     "iopub.status.idle": "2024-04-18T04:04:08.438841Z",
     "shell.execute_reply": "2024-04-18T04:04:08.437670Z"
    },
    "papermill": {
     "duration": 0.019541,
     "end_time": "2024-04-18T04:04:08.441344",
     "exception": false,
     "start_time": "2024-04-18T04:04:08.421803",
     "status": "completed"
    },
    "tags": []
   },
   "outputs": [],
   "source": [
    "submission = {'PassengerId': test_PID, 'Survived': yhat_final}"
   ]
  },
  {
   "cell_type": "code",
   "execution_count": 21,
   "id": "b279b6ce",
   "metadata": {
    "execution": {
     "iopub.execute_input": "2024-04-18T04:04:08.463033Z",
     "iopub.status.busy": "2024-04-18T04:04:08.462629Z",
     "iopub.status.idle": "2024-04-18T04:04:08.468160Z",
     "shell.execute_reply": "2024-04-18T04:04:08.466958Z"
    },
    "papermill": {
     "duration": 0.01958,
     "end_time": "2024-04-18T04:04:08.470641",
     "exception": false,
     "start_time": "2024-04-18T04:04:08.451061",
     "status": "completed"
    },
    "tags": []
   },
   "outputs": [],
   "source": [
    "submission = pd.DataFrame.from_dict(submission)"
   ]
  },
  {
   "cell_type": "code",
   "execution_count": 22,
   "id": "33930eca",
   "metadata": {
    "execution": {
     "iopub.execute_input": "2024-04-18T04:04:08.492560Z",
     "iopub.status.busy": "2024-04-18T04:04:08.491836Z",
     "iopub.status.idle": "2024-04-18T04:04:08.500341Z",
     "shell.execute_reply": "2024-04-18T04:04:08.499099Z"
    },
    "papermill": {
     "duration": 0.023537,
     "end_time": "2024-04-18T04:04:08.504307",
     "exception": false,
     "start_time": "2024-04-18T04:04:08.480770",
     "status": "completed"
    },
    "tags": []
   },
   "outputs": [],
   "source": [
    "submission.to_csv('submission.csv', index=False)"
   ]
  },
  {
   "cell_type": "code",
   "execution_count": null,
   "id": "3cfb57d9",
   "metadata": {
    "papermill": {
     "duration": 0.009299,
     "end_time": "2024-04-18T04:04:08.523991",
     "exception": false,
     "start_time": "2024-04-18T04:04:08.514692",
     "status": "completed"
    },
    "tags": []
   },
   "outputs": [],
   "source": []
  }
 ],
 "metadata": {
  "kaggle": {
   "accelerator": "none",
   "dataSources": [
    {
     "databundleVersionId": 26502,
     "sourceId": 3136,
     "sourceType": "competition"
    }
   ],
   "dockerImageVersionId": 30684,
   "isGpuEnabled": false,
   "isInternetEnabled": true,
   "language": "python",
   "sourceType": "notebook"
  },
  "kernelspec": {
   "display_name": "Python 3",
   "language": "python",
   "name": "python3"
  },
  "language_info": {
   "codemirror_mode": {
    "name": "ipython",
    "version": 3
   },
   "file_extension": ".py",
   "mimetype": "text/x-python",
   "name": "python",
   "nbconvert_exporter": "python",
   "pygments_lexer": "ipython3",
   "version": "3.10.13"
  },
  "papermill": {
   "default_parameters": {},
   "duration": 10.263192,
   "end_time": "2024-04-18T04:04:11.749240",
   "environment_variables": {},
   "exception": null,
   "input_path": "__notebook__.ipynb",
   "output_path": "__notebook__.ipynb",
   "parameters": {},
   "start_time": "2024-04-18T04:04:01.486048",
   "version": "2.5.0"
  }
 },
 "nbformat": 4,
 "nbformat_minor": 5
}
